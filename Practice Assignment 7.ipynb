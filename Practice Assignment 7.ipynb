{
 "cells": [
  {
   "cell_type": "code",
   "execution_count": 1,
   "id": "8c65069e-0c08-4205-b00e-c61ee75828e6",
   "metadata": {},
   "outputs": [],
   "source": [
    "import nltk"
   ]
  },
  {
   "cell_type": "code",
   "execution_count": 3,
   "id": "e9776dfa-afc1-4597-a22b-ab1a57e34dac",
   "metadata": {},
   "outputs": [
    {
     "name": "stderr",
     "output_type": "stream",
     "text": [
      "[nltk_data] Downloading package punkt to\n",
      "[nltk_data]     C:\\Users\\Varad\\AppData\\Roaming\\nltk_data...\n",
      "[nltk_data]   Package punkt is already up-to-date!\n",
      "[nltk_data] Downloading package punkt_tab to\n",
      "[nltk_data]     C:\\Users\\Varad\\AppData\\Roaming\\nltk_data...\n",
      "[nltk_data]   Package punkt_tab is already up-to-date!\n",
      "[nltk_data] Downloading package stopwords to\n",
      "[nltk_data]     C:\\Users\\Varad\\AppData\\Roaming\\nltk_data...\n",
      "[nltk_data]   Package stopwords is already up-to-date!\n",
      "[nltk_data] Downloading package wordnet to\n",
      "[nltk_data]     C:\\Users\\Varad\\AppData\\Roaming\\nltk_data...\n",
      "[nltk_data]   Package wordnet is already up-to-date!\n",
      "[nltk_data] Downloading package punkt to\n",
      "[nltk_data]     C:\\Users\\Varad\\AppData\\Roaming\\nltk_data...\n",
      "[nltk_data]   Package punkt is already up-to-date!\n",
      "[nltk_data] Downloading package averaged_perceptron_tagger to\n",
      "[nltk_data]     C:\\Users\\Varad\\AppData\\Roaming\\nltk_data...\n",
      "[nltk_data]   Package averaged_perceptron_tagger is already up-to-\n",
      "[nltk_data]       date!\n",
      "[nltk_data] Downloading package averaged_perceptron_tagger_eng to\n",
      "[nltk_data]     C:\\Users\\Varad\\AppData\\Roaming\\nltk_data...\n",
      "[nltk_data]   Package averaged_perceptron_tagger_eng is already up-to-\n",
      "[nltk_data]       date!\n"
     ]
    },
    {
     "data": {
      "text/plain": [
       "True"
      ]
     },
     "execution_count": 3,
     "metadata": {},
     "output_type": "execute_result"
    }
   ],
   "source": [
    "nltk.download('punkt')\n",
    "nltk.download('punkt_tab')\n",
    "nltk.download('stopwords')\n",
    "nltk.download('wordnet')\n",
    "nltk.download('averaged_perceptron_tagger_eng')"
   ]
  },
  {
   "cell_type": "code",
   "execution_count": 5,
   "id": "6189a3dd-69b0-40a3-9f12-ba089542b86b",
   "metadata": {},
   "outputs": [],
   "source": [
    "text=\"India are the winners of ICC T20 World Cup 2024.In the ODI format, India are the winners of the ICC Champions Trophy 2025.\""
   ]
  },
  {
   "cell_type": "code",
   "execution_count": 7,
   "id": "ee8ba756-a8da-4aa1-b5f0-f8ab6bbe95dc",
   "metadata": {},
   "outputs": [
    {
     "name": "stdout",
     "output_type": "stream",
     "text": [
      "['India are the winners of ICC T20 World Cup 2024.In the ODI format, India are the winners of the ICC Champions Trophy 2025.']\n",
      "['India', 'are', 'the', 'winners', 'of', 'ICC', 'T20', 'World', 'Cup', '2024.In', 'the', 'ODI', 'format', ',', 'India', 'are', 'the', 'winners', 'of', 'the', 'ICC', 'Champions', 'Trophy', '2025', '.']\n"
     ]
    }
   ],
   "source": [
    "#Sentence Tokenization\n",
    "from nltk.tokenize import sent_tokenize\n",
    "tokenized_text= sent_tokenize(text)\n",
    "print(tokenized_text)\n",
    "\n",
    "#Word Tokenization\n",
    "from nltk.tokenize import word_tokenize\n",
    "tokenized_word=word_tokenize(text)\n",
    "print(tokenized_word)"
   ]
  },
  {
   "cell_type": "code",
   "execution_count": 9,
   "id": "a0da15b8-e42c-4bbe-8da2-39d699948495",
   "metadata": {},
   "outputs": [
    {
     "name": "stdout",
     "output_type": "stream",
     "text": [
      "{'can', 'own', \"you've\", \"they'd\", 'for', 'its', 'will', \"needn't\", 'out', 'himself', 'if', 'such', 'down', 'which', 'only', \"hadn't\", 'no', 'your', 'don', 'further', 'all', 'she', 'ain', 'each', 'an', 'because', 'isn', 'these', 'myself', 'above', 'hadn', \"he'd\", 'be', 'wasn', 'more', 'that', 'over', 'before', 'has', \"hasn't\", 'itself', 'up', 'then', \"i'll\", 'wouldn', \"shan't\", 'shouldn', \"you're\", 'a', 'some', 'off', \"they've\", 'their', 'while', 'aren', \"it'll\", 'both', 'we', 'ours', 'and', \"mustn't\", 'they', 'nor', 'mightn', 'had', 'hasn', \"i'm\", \"weren't\", 'than', 'hers', 've', \"i'd\", 'me', 'been', \"you'd\", 'are', 'you', \"wouldn't\", \"isn't\", 'my', 'until', \"we'll\", \"we've\", \"don't\", \"shouldn't\", 'didn', 'them', 'being', 'needn', 'too', 'yours', 'theirs', 'so', \"they're\", 'to', 'against', \"that'll\", 'what', \"she's\", \"you'll\", 'about', 'there', 'those', 'who', 'how', 'below', 'on', 'after', 'shan', \"doesn't\", \"he'll\", \"won't\", 'where', 'ma', 's', 'few', 'd', 'm', 'do', 'am', 'it', 'why', 'themselves', 're', 'under', 'most', 'him', 'at', 'from', \"it'd\", \"i've\", 'ourselves', 'again', 'once', 'whom', 'll', 'doesn', 'not', 'y', \"aren't\", 'of', 'during', \"didn't\", 'won', \"we're\", 'doing', \"couldn't\", 'in', 'other', 'our', 'couldn', \"should've\", 'haven', 'were', 'same', 'herself', 'through', 'very', 'yourself', 'mustn', \"mightn't\", 'when', 'is', 'her', 'yourselves', 'as', 'here', 'by', 'should', \"wasn't\", 'i', 'does', 'into', 'any', 'he', \"she'll\", 'o', \"haven't\", 'this', 'his', 't', 'having', 'have', 'but', 'or', 'was', 'the', 'now', 'did', \"it's\", \"they'll\", 'just', \"we'd\", 'between', 'weren', 'with', \"she'd\", \"he's\"}\n"
     ]
    }
   ],
   "source": [
    "# print stop words of English\n",
    "from nltk.corpus import stopwords\n",
    "stop_words=set(stopwords.words(\"english\"))\n",
    "print(stop_words)"
   ]
  },
  {
   "cell_type": "code",
   "execution_count": 11,
   "id": "cfa6c415-5d35-487f-bfde-f01da6a9ccbf",
   "metadata": {},
   "outputs": [
    {
     "name": "stdout",
     "output_type": "stream",
     "text": [
      "Tokenized Sentence: ['how', 'to', 'remove', 'stop', 'words', 'with', 'nltk', 'library', 'in', 'python']\n",
      "Filtered Sentence: ['remove', 'stop', 'words', 'nltk', 'library', 'python']\n"
     ]
    }
   ],
   "source": [
    "import re\n",
    "text= \"How to remove stop words with NLTK library in Python?\"\n",
    "text= re.sub('[^a-zA-Z]', ' ',text)\n",
    "tokens = word_tokenize(text.lower())\n",
    "filtered_text=[]\n",
    "for w in tokens:\n",
    "  if w not in stop_words:\n",
    "    filtered_text.append(w)\n",
    "print(\"Tokenized Sentence:\",tokens)\n",
    "print(\"Filtered Sentence:\",filtered_text)"
   ]
  },
  {
   "cell_type": "code",
   "execution_count": 13,
   "id": "16201574-7e06-4d94-8f81-97d3a94f7cb3",
   "metadata": {},
   "outputs": [
    {
     "name": "stdout",
     "output_type": "stream",
     "text": [
      "wait\n"
     ]
    }
   ],
   "source": [
    "from nltk.stem import PorterStemmer\n",
    "e_words= [\"wait\", \"waiting\", \"waited\", \"waits\"]\n",
    "ps =PorterStemmer()\n",
    "for w in e_words:\n",
    "  rootWord=ps.stem(w)\n",
    "print(rootWord)\n"
   ]
  },
  {
   "cell_type": "code",
   "execution_count": 15,
   "id": "f0a44ac9-7f7d-41eb-b224-f70cf09b7a13",
   "metadata": {},
   "outputs": [
    {
     "name": "stdout",
     "output_type": "stream",
     "text": [
      "Lemma for Pune is Pune\n",
      "Lemma for is is is\n",
      "Lemma for a is a\n",
      "Lemma for sprawling is sprawling\n",
      "Lemma for city is city\n",
      "Lemma for of is of\n",
      "Lemma for Maharashtra is Maharashtra\n",
      "Lemma for . is .\n"
     ]
    }
   ],
   "source": [
    "from nltk.stem import WordNetLemmatizer\n",
    "wordnet_lemmatizer = WordNetLemmatizer()\n",
    "text = \"Pune is a sprawling city of Maharashtra.\"\n",
    "tokenization = nltk.word_tokenize(text)\n",
    "for w in tokenization:\n",
    "  print(\"Lemma for {} is {}\".format(w,\n",
    "wordnet_lemmatizer.lemmatize(w)))"
   ]
  },
  {
   "cell_type": "code",
   "execution_count": 17,
   "id": "1c2e584d-ca6f-4bb7-a055-71da4759d76b",
   "metadata": {},
   "outputs": [
    {
     "name": "stdout",
     "output_type": "stream",
     "text": [
      "[('Virat', 'NNP')]\n",
      "[('and', 'CC')]\n",
      "[('Rohit', 'NN')]\n",
      "[('chased', 'VBN')]\n",
      "[('down', 'RB')]\n",
      "[('a', 'DT')]\n",
      "[('daunting', 'VBG')]\n",
      "[('total', 'JJ')]\n",
      "[('in', 'IN')]\n",
      "[('yesterday', 'NN')]\n",
      "[(\"'s\", 'POS')]\n",
      "[('match', 'NN')]\n",
      "[('.', '.')]\n"
     ]
    }
   ],
   "source": [
    "import nltk\n",
    "from nltk.tokenize import word_tokenize\n",
    "data=\"Virat and Rohit chased down a daunting total in yesterday's match.\"\n",
    "words=word_tokenize(data)\n",
    "for word in words:\n",
    "  print(nltk.pos_tag([word]))"
   ]
  },
  {
   "cell_type": "code",
   "execution_count": 19,
   "id": "b15d970e-19bf-45b8-9dbb-3cb318755439",
   "metadata": {},
   "outputs": [],
   "source": [
    "import pandas as pd\n",
    "from sklearn.feature_extraction.text import TfidfVectorizer"
   ]
  },
  {
   "cell_type": "code",
   "execution_count": 21,
   "id": "15ed2254-38db-4b03-8f39-8718b971690a",
   "metadata": {},
   "outputs": [],
   "source": [
    "documentA = \"FC Barcelona is a professional football club based in Barcelona\"\n",
    "documentB = \"FC Barcelona is one of the world's most decorated football clubs and compete in La Liga.\""
   ]
  },
  {
   "cell_type": "code",
   "execution_count": 23,
   "id": "39d44925-1dfc-49ab-bcec-b7add0f6b233",
   "metadata": {},
   "outputs": [],
   "source": [
    "bagOfWordsA = documentA.split(' ')\n",
    "bagOfWordsB = documentB.split(' ')"
   ]
  },
  {
   "cell_type": "code",
   "execution_count": 25,
   "id": "0c42bb57-bff9-47b0-96da-dfafe941c3d4",
   "metadata": {},
   "outputs": [
    {
     "data": {
      "text/plain": [
       "{'Barcelona',\n",
       " 'FC',\n",
       " 'La',\n",
       " 'Liga.',\n",
       " 'a',\n",
       " 'and',\n",
       " 'based',\n",
       " 'club',\n",
       " 'clubs',\n",
       " 'compete',\n",
       " 'decorated',\n",
       " 'football',\n",
       " 'in',\n",
       " 'is',\n",
       " 'most',\n",
       " 'of',\n",
       " 'one',\n",
       " 'professional',\n",
       " 'the',\n",
       " \"world's\"}"
      ]
     },
     "execution_count": 25,
     "metadata": {},
     "output_type": "execute_result"
    }
   ],
   "source": [
    "uniqueWords = set(bagOfWordsA).union(set(bagOfWordsB))\n",
    "uniqueWords"
   ]
  },
  {
   "cell_type": "code",
   "execution_count": 27,
   "id": "d5c6a86a-9d9b-4f3a-b37b-c24b76b753cd",
   "metadata": {},
   "outputs": [],
   "source": [
    "numOfWordsA = dict.fromkeys(uniqueWords, 0)\n",
    "for word in bagOfWordsA:\n",
    "  numOfWordsA[word] += 1\n",
    "numOfWordsB = dict.fromkeys(uniqueWords, 0)\n",
    "for word in bagOfWordsB:\n",
    "  numOfWordsB[word] += 1"
   ]
  },
  {
   "cell_type": "code",
   "execution_count": 29,
   "id": "2a44bed4-a814-4b22-9380-d330bb459d36",
   "metadata": {},
   "outputs": [],
   "source": [
    "def computeTF(wordDict, bagOfWords):\n",
    "  tfDict = {}\n",
    "  bagOfWordsCount = len(bagOfWords) # bagOfWords is defined as a parameter\n",
    "  for word, count in wordDict.items():\n",
    "    tfDict[word] = count / float(bagOfWordsCount)\n",
    "  return tfDict\n",
    "tfA = computeTF(numOfWordsA, bagOfWordsA) # bagOfWordsA is passed to bagOfWords\n",
    "tfB = computeTF(numOfWordsB, bagOfWordsB) # bagOfWordsB is passed to bagOfWords"
   ]
  },
  {
   "cell_type": "code",
   "execution_count": 31,
   "id": "ca26b292-850b-4883-a618-42814fad64d0",
   "metadata": {},
   "outputs": [],
   "source": [
    "def computeIDF(documents):\n",
    "  import math\n",
    "  N = len(documents)\n",
    "  idfDict = dict.fromkeys(documents[0].keys(), 0)\n",
    "  for document in documents:\n",
    "    for word, val in document.items():\n",
    "      if val > 0:\n",
    "        idfDict[word] += 1\n",
    "  for word, val in idfDict.items():\n",
    "    idfDict[word] = math.log(N / float(val))\n",
    "  return idfDict\n",
    "idfs = computeIDF([numOfWordsA, numOfWordsB])"
   ]
  },
  {
   "cell_type": "code",
   "execution_count": 33,
   "id": "1bda1a37-c75c-4318-b1ab-4d444a4c8d02",
   "metadata": {},
   "outputs": [
    {
     "name": "stdout",
     "output_type": "stream",
     "text": [
      "TF-IDF for document A: {'based': 0.06931471805599453, 'most': 0.0, 'FC': 0.0, 'the': 0.0, 'decorated': 0.0, 'a': 0.06931471805599453, 'one': 0.0, 'of': 0.0, 'Liga.': 0.0, \"world's\": 0.0, 'is': 0.0, 'club': 0.06931471805599453, 'in': 0.0, 'compete': 0.0, 'clubs': 0.0, 'Barcelona': 0.0, 'football': 0.0, 'and': 0.0, 'La': 0.0, 'professional': 0.06931471805599453}\n",
      "TF-IDF for document B: {'based': 0.0, 'most': 0.04332169878499658, 'FC': 0.0, 'the': 0.04332169878499658, 'decorated': 0.04332169878499658, 'a': 0.0, 'one': 0.04332169878499658, 'of': 0.04332169878499658, 'Liga.': 0.04332169878499658, \"world's\": 0.04332169878499658, 'is': 0.0, 'club': 0.0, 'in': 0.0, 'compete': 0.04332169878499658, 'clubs': 0.04332169878499658, 'Barcelona': 0.0, 'football': 0.0, 'and': 0.04332169878499658, 'La': 0.04332169878499658, 'professional': 0.0}\n",
      "----------------\n"
     ]
    },
    {
     "data": {
      "text/html": [
       "<div>\n",
       "<style scoped>\n",
       "    .dataframe tbody tr th:only-of-type {\n",
       "        vertical-align: middle;\n",
       "    }\n",
       "\n",
       "    .dataframe tbody tr th {\n",
       "        vertical-align: top;\n",
       "    }\n",
       "\n",
       "    .dataframe thead th {\n",
       "        text-align: right;\n",
       "    }\n",
       "</style>\n",
       "<table border=\"1\" class=\"dataframe\">\n",
       "  <thead>\n",
       "    <tr style=\"text-align: right;\">\n",
       "      <th></th>\n",
       "      <th>based</th>\n",
       "      <th>most</th>\n",
       "      <th>FC</th>\n",
       "      <th>the</th>\n",
       "      <th>decorated</th>\n",
       "      <th>a</th>\n",
       "      <th>one</th>\n",
       "      <th>of</th>\n",
       "      <th>Liga.</th>\n",
       "      <th>world's</th>\n",
       "      <th>is</th>\n",
       "      <th>club</th>\n",
       "      <th>in</th>\n",
       "      <th>compete</th>\n",
       "      <th>clubs</th>\n",
       "      <th>Barcelona</th>\n",
       "      <th>football</th>\n",
       "      <th>and</th>\n",
       "      <th>La</th>\n",
       "      <th>professional</th>\n",
       "    </tr>\n",
       "  </thead>\n",
       "  <tbody>\n",
       "    <tr>\n",
       "      <th>0</th>\n",
       "      <td>0.069315</td>\n",
       "      <td>0.000000</td>\n",
       "      <td>0.0</td>\n",
       "      <td>0.000000</td>\n",
       "      <td>0.000000</td>\n",
       "      <td>0.069315</td>\n",
       "      <td>0.000000</td>\n",
       "      <td>0.000000</td>\n",
       "      <td>0.000000</td>\n",
       "      <td>0.000000</td>\n",
       "      <td>0.0</td>\n",
       "      <td>0.069315</td>\n",
       "      <td>0.0</td>\n",
       "      <td>0.000000</td>\n",
       "      <td>0.000000</td>\n",
       "      <td>0.0</td>\n",
       "      <td>0.0</td>\n",
       "      <td>0.000000</td>\n",
       "      <td>0.000000</td>\n",
       "      <td>0.069315</td>\n",
       "    </tr>\n",
       "    <tr>\n",
       "      <th>1</th>\n",
       "      <td>0.000000</td>\n",
       "      <td>0.043322</td>\n",
       "      <td>0.0</td>\n",
       "      <td>0.043322</td>\n",
       "      <td>0.043322</td>\n",
       "      <td>0.000000</td>\n",
       "      <td>0.043322</td>\n",
       "      <td>0.043322</td>\n",
       "      <td>0.043322</td>\n",
       "      <td>0.043322</td>\n",
       "      <td>0.0</td>\n",
       "      <td>0.000000</td>\n",
       "      <td>0.0</td>\n",
       "      <td>0.043322</td>\n",
       "      <td>0.043322</td>\n",
       "      <td>0.0</td>\n",
       "      <td>0.0</td>\n",
       "      <td>0.043322</td>\n",
       "      <td>0.043322</td>\n",
       "      <td>0.000000</td>\n",
       "    </tr>\n",
       "  </tbody>\n",
       "</table>\n",
       "</div>"
      ],
      "text/plain": [
       "      based      most   FC       the  decorated         a       one        of  \\\n",
       "0  0.069315  0.000000  0.0  0.000000   0.000000  0.069315  0.000000  0.000000   \n",
       "1  0.000000  0.043322  0.0  0.043322   0.043322  0.000000  0.043322  0.043322   \n",
       "\n",
       "      Liga.   world's   is      club   in   compete     clubs  Barcelona  \\\n",
       "0  0.000000  0.000000  0.0  0.069315  0.0  0.000000  0.000000        0.0   \n",
       "1  0.043322  0.043322  0.0  0.000000  0.0  0.043322  0.043322        0.0   \n",
       "\n",
       "   football       and        La  professional  \n",
       "0       0.0  0.000000  0.000000      0.069315  \n",
       "1       0.0  0.043322  0.043322      0.000000  "
      ]
     },
     "execution_count": 33,
     "metadata": {},
     "output_type": "execute_result"
    }
   ],
   "source": [
    "def computeTFIDF(tfBagOfWords, idfs):\n",
    "  tfidf = {}\n",
    "  for word, val in tfBagOfWords.items():\n",
    "    tfidf[word] = val * idfs[word]\n",
    "  return tfidf\n",
    "\n",
    "# Call the function with tfA or tfB as the first argument\n",
    "# to calculate the TF-IDF for document A or B, respectively.\n",
    "tfidfA = computeTFIDF(tfA, idfs)\n",
    "tfidfB = computeTFIDF(tfB, idfs)\n",
    "\n",
    "print(\"TF-IDF for document A:\", tfidfA)\n",
    "print(\"TF-IDF for document B:\", tfidfB)\n",
    "print(\"----------------\")\n",
    "df = pd.DataFrame([tfidfA, tfidfB])\n",
    "df"
   ]
  },
  {
   "cell_type": "code",
   "execution_count": null,
   "id": "814b2eb8-1e9e-4b79-b9af-6119f153814b",
   "metadata": {},
   "outputs": [],
   "source": []
  }
 ],
 "metadata": {
  "kernelspec": {
   "display_name": "Python 3 (ipykernel)",
   "language": "python",
   "name": "python3"
  },
  "language_info": {
   "codemirror_mode": {
    "name": "ipython",
    "version": 3
   },
   "file_extension": ".py",
   "mimetype": "text/x-python",
   "name": "python",
   "nbconvert_exporter": "python",
   "pygments_lexer": "ipython3",
   "version": "3.12.7"
  }
 },
 "nbformat": 4,
 "nbformat_minor": 5
}
